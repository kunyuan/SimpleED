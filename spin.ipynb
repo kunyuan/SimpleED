{
 "cells": [
  {
   "cell_type": "code",
   "execution_count": 1,
   "metadata": {},
   "outputs": [],
   "source": [
    "import numpy as np\n",
    "import matplotlib.pyplot as plt\n",
    "import numpy.linalg as lin"
   ]
  },
  {
   "cell_type": "markdown",
   "metadata": {},
   "source": [
    "## Two Spin"
   ]
  },
  {
   "cell_type": "code",
   "execution_count": 2,
   "metadata": {},
   "outputs": [],
   "source": [
    "N=2"
   ]
  },
  {
   "cell_type": "code",
   "execution_count": 3,
   "metadata": {},
   "outputs": [],
   "source": [
    "Wave=np.zeros(2**N)"
   ]
  },
  {
   "cell_type": "code",
   "execution_count": 4,
   "metadata": {},
   "outputs": [],
   "source": [
    "Index={}\n",
    "for i in range(N):\n",
    "    for j in range(2):\n",
    "        Index[(i,j)]=2*i+j"
   ]
  },
  {
   "cell_type": "code",
   "execution_count": 5,
   "metadata": {},
   "outputs": [
    {
     "data": {
      "text/plain": [
       "{(0, 0): 0, (0, 1): 1, (1, 0): 2, (1, 1): 3}"
      ]
     },
     "execution_count": 5,
     "metadata": {},
     "output_type": "execute_result"
    }
   ],
   "source": [
    "Index"
   ]
  },
  {
   "cell_type": "code",
   "execution_count": 6,
   "metadata": {},
   "outputs": [],
   "source": [
    "Sx=np.array([[0,1], [1,0]])/2.0\n",
    "Sy=np.array([[0, -1j], [1j,0]])/2.0\n",
    "Sz=np.array([[1,0],[0,-1]])/2.0\n",
    "II=np.array([[1,0],[0,1]])\n",
    "SList=[Sx, Sy, Sz]"
   ]
  },
  {
   "cell_type": "code",
   "execution_count": 7,
   "metadata": {},
   "outputs": [
    {
     "data": {
      "text/plain": [
       "array([[0.75+0.j, 0.  +0.j],\n",
       "       [0.  +0.j, 0.75+0.j]])"
      ]
     },
     "execution_count": 7,
     "metadata": {},
     "output_type": "execute_result"
    }
   ],
   "source": [
    "np.dot(Sx, Sx)+np.dot(Sy, Sy)+np.dot(Sz,Sz)"
   ]
  },
  {
   "cell_type": "code",
   "execution_count": 8,
   "metadata": {},
   "outputs": [],
   "source": [
    "def Couple(A, B):\n",
    "    #print A[0].shape\n",
    "    N=2*(A[0].shape[0])\n",
    "    #print N\n",
    "    H=np.zeros([N, N])+0j\n",
    "    for i in range(len(A)):\n",
    "        H+=np.dot(np.kron(A[i], II), np.kron(II, B[i]))\n",
    "    return H"
   ]
  },
  {
   "cell_type": "code",
   "execution_count": 9,
   "metadata": {},
   "outputs": [],
   "source": [
    "def Hamiltonian(J):\n",
    "    return J*Couple(SList, SList)"
   ]
  },
  {
   "cell_type": "code",
   "execution_count": 10,
   "metadata": {},
   "outputs": [],
   "source": [
    "J=1.0 #simple example\n",
    "H2=Hamiltonian(J) "
   ]
  },
  {
   "cell_type": "code",
   "execution_count": 11,
   "metadata": {},
   "outputs": [
    {
     "data": {
      "text/plain": [
       "(array([-0.75,  0.25,  0.25,  0.25]),\n",
       " array([[ 0.        +0.j,  1.        +0.j,  0.        +0.j,\n",
       "          0.        +0.j],\n",
       "        [ 0.70710678+0.j,  0.        +0.j,  0.70710678+0.j,\n",
       "          0.        +0.j],\n",
       "        [-0.70710678+0.j,  0.        +0.j,  0.70710678+0.j,\n",
       "          0.        +0.j],\n",
       "        [ 0.        +0.j,  0.        +0.j,  0.        +0.j,\n",
       "          1.        +0.j]]))"
      ]
     },
     "execution_count": 11,
     "metadata": {},
     "output_type": "execute_result"
    }
   ],
   "source": [
    "lin.eigh(H2)"
   ]
  },
  {
   "cell_type": "markdown",
   "metadata": {},
   "source": [
    "### Four energy scale: -3J/4 and three J/4"
   ]
  },
  {
   "cell_type": "markdown",
   "metadata": {},
   "source": [
    "## Four Spins"
   ]
  },
  {
   "cell_type": "code",
   "execution_count": 45,
   "metadata": {},
   "outputs": [],
   "source": [
    "def Spin(A, n, tot):\n",
    "    Total=[]\n",
    "    for m in range(len(A)):\n",
    "        S=1.0\n",
    "        for i in range(tot):\n",
    "            if i==n:\n",
    "                S=np.kron(S, A[m])\n",
    "            else:\n",
    "                S=np.kron(S, II)\n",
    "        #print S.shape\n",
    "        Total.append(S)\n",
    "    #print Total\n",
    "    return Total"
   ]
  },
  {
   "cell_type": "code",
   "execution_count": 46,
   "metadata": {},
   "outputs": [],
   "source": [
    "def Coup(A, B):\n",
    "    #print A[0].shape\n",
    "    N=A[0].shape[0]\n",
    "    #print N\n",
    "    H=np.zeros([N, N])+0j\n",
    "    for i in range(len(A)):\n",
    "        H+=np.dot(A[i], B[i])\n",
    "    return H"
   ]
  },
  {
   "cell_type": "code",
   "execution_count": 66,
   "metadata": {},
   "outputs": [],
   "source": [
    "def J1J2(J1, J2):\n",
    "    H01=Coup(Spin(SList, 0, 4), Spin(SList, 1, 4))\n",
    "    H23=Coup(Spin(SList, 2, 4), Spin(SList, 3, 4))\n",
    "    H02=Coup(Spin(SList, 0, 4), Spin(SList, 2, 4))\n",
    "    H13=Coup(Spin(SList, 1, 4), Spin(SList, 3, 4))\n",
    "    return J2*(H01+H23)+J1*(H02+H13)"
   ]
  },
  {
   "cell_type": "code",
   "execution_count": 67,
   "metadata": {},
   "outputs": [
    {
     "name": "stdout",
     "output_type": "stream",
     "text": [
      "[-2.00000000e+00 -1.00000000e+00 -1.00000000e+00 -1.00000000e+00\n",
      " -2.25514052e-17  0.00000000e+00  6.20960976e-17  8.42732175e-17\n",
      "  1.05304985e-16  2.23086064e-16  4.49946523e-16  1.00000000e+00\n",
      "  1.00000000e+00  1.00000000e+00  1.00000000e+00  1.00000000e+00]\n"
     ]
    }
   ],
   "source": [
    "E, _=lin.eigh(J1J2(1.0,1.0))\n",
    "print E"
   ]
  },
  {
   "cell_type": "code",
   "execution_count": 106,
   "metadata": {},
   "outputs": [],
   "source": [
    "Curves={}\n",
    "x=np.array(range(20))*0.1\n",
    "for i in range(20):\n",
    "    J2=i*0.1\n",
    "    E, _=lin.eigh(J1J2(1.0, J2))\n",
    "    #print len(E)\n",
    "    for e in range(len(E)):\n",
    "        if Curves.has_key(e):\n",
    "            Curves[e].append(E[e]/4.0)\n",
    "        else:\n",
    "            Curves[e]=[E[e]/4.0]"
   ]
  },
  {
   "cell_type": "code",
   "execution_count": 107,
   "metadata": {},
   "outputs": [
    {
     "data": {
      "text/plain": [
       "[-0.37500000000000006,\n",
       " -0.3759848003542363,\n",
       " -0.3791287847477922,\n",
       " -0.3847048604328896,\n",
       " -0.39294494717703377,\n",
       " -0.4040063509461097,\n",
       " -0.41794494717703345,\n",
       " -0.43470486043288953,\n",
       " -0.4541287847477921,\n",
       " -0.4759848003542364,\n",
       " -0.5000000000000002,\n",
       " -0.5258913438213184,\n",
       " -0.5533882181415011,\n",
       " -0.5822456530637901,\n",
       " -0.61224989991992,\n",
       " -0.6432189138830738,\n",
       " -0.675,\n",
       " -0.7074662146737186,\n",
       " -0.7405124837953326,\n",
       " -0.7740519408288585]"
      ]
     },
     "execution_count": 107,
     "metadata": {},
     "output_type": "execute_result"
    }
   ],
   "source": [
    "Curves[0]"
   ]
  },
  {
   "cell_type": "code",
   "execution_count": 108,
   "metadata": {},
   "outputs": [
    {
     "data": {
      "image/png": "[encoded data removed]",
      "text/plain": [
       "<Figure size 432x288 with 1 Axes>"
      ]
     },
     "metadata": {
      "needs_background": "light"
     },
     "output_type": "display_data"
    }
   ],
   "source": [
    "for e in range(len(Curves)):\n",
    "    plt.plot(x, Curves[e], label=e)\n",
    "\n",
    "plt.legend()\n",
    "plt.show()"
   ]
  },
  {
   "cell_type": "code",
   "execution_count": 71,
   "metadata": {},
   "outputs": [
    {
     "name": "stdout",
     "output_type": "stream",
     "text": [
      "[-0.75  0.25  0.25  0.25]\n",
      "[[ 0.25+0.j  0.  +0.j  0.  +0.j  0.  +0.j]\n",
      " [ 0.  +0.j -0.25+0.j  0.5 +0.j  0.  +0.j]\n",
      " [ 0.  +0.j  0.5 +0.j -0.25+0.j  0.  +0.j]\n",
      " [ 0.  +0.j  0.  +0.j  0.  +0.j  0.25+0.j]]\n",
      "[[ 0.25+0.j  0.  +0.j  0.  +0.j  0.  +0.j]\n",
      " [ 0.  +0.j -0.25+0.j  0.5 +0.j  0.  +0.j]\n",
      " [ 0.  +0.j  0.5 +0.j -0.25+0.j  0.  +0.j]\n",
      " [ 0.  +0.j  0.  +0.j  0.  +0.j  0.25+0.j]]\n",
      "[[0.  0.  0.5 0. ]\n",
      " [0.  0.  0.  0.5]\n",
      " [0.5 0.  0.  0. ]\n",
      " [0.  0.5 0.  0. ]]\n",
      "[[0.  0.  0.5 0. ]\n",
      " [0.  0.  0.  0.5]\n",
      " [0.5 0.  0.  0. ]\n",
      " [0.  0.5 0.  0. ]]\n"
     ]
    }
   ],
   "source": [
    "E, _=lin.eigh(Coup(Spin(SList, 0, 2), Spin(SList, 1, 2)))\n",
    "print E\n",
    "print Coup(Spin(SList, 0, 2), Spin(SList, 1, 2))\n",
    "print Couple(SList, SList)\n",
    "print Spin(SList, 0, 2)[0]\n",
    "print np.kron(Sx, II)"
   ]
  },
  {
   "cell_type": "code",
   "execution_count": 53,
   "metadata": {},
   "outputs": [
    {
     "name": "stdout",
     "output_type": "stream",
     "text": [
      "[-0.75 -0.75 -0.75 -0.75  0.25  0.25  0.25  0.25  0.25  0.25  0.25  0.25\n",
      "  0.25  0.25  0.25  0.25]\n"
     ]
    }
   ],
   "source": [
    "E, _=lin.eigh(Coup(Spin(SList, 1, 4), Spin(SList, 2, 4)))\n",
    "print E"
   ]
  },
  {
   "cell_type": "code",
   "execution_count": 54,
   "metadata": {},
   "outputs": [
    {
     "name": "stdout",
     "output_type": "stream",
     "text": [
      "[-1.5 -0.5 -0.5 -0.5 -0.5 -0.5 -0.5  0.5  0.5  0.5  0.5  0.5  0.5  0.5\n",
      "  0.5  0.5]\n"
     ]
    }
   ],
   "source": [
    "E, _=lin.eigh(Coup(Spin(SList, 1, 4), Spin(SList, 3, 4))+Coup(Spin(SList, 0, 4), Spin(SList, 2, 4)))\n",
    "print E"
   ]
  },
  {
   "cell_type": "code",
   "execution_count": 109,
   "metadata": {},
   "outputs": [
    {
     "name": "stdout",
     "output_type": "stream",
     "text": [
      "[-5.00000000e-01 -2.50000000e-01 -2.50000000e-01 -2.50000000e-01\n",
      " -5.63785130e-18  0.00000000e+00  1.55240244e-17  2.10683044e-17\n",
      "  2.63262462e-17  5.57715160e-17  1.12486631e-16  2.50000000e-01\n",
      "  2.50000000e-01  2.50000000e-01  2.50000000e-01  2.50000000e-01]\n"
     ]
    }
   ],
   "source": [
    "E, _=lin.eigh(J1J2(1.0, 1.0))\n",
    "print E/4.0"
   ]
  },
  {
   "cell_type": "markdown",
   "metadata": {},
   "source": [
    "# Six Spins"
   ]
  },
  {
   "cell_type": "code",
   "execution_count": 115,
   "metadata": {},
   "outputs": [],
   "source": [
    "def J1J2_3(J1, J2):\n",
    "    H01=Coup(Spin(SList, 0, 6), Spin(SList, 1, 6))\n",
    "    H23=Coup(Spin(SList, 2, 6), Spin(SList, 3, 6))\n",
    "    H45=Coup(Spin(SList, 4, 6), Spin(SList, 5, 6))\n",
    "    \n",
    "    H02=Coup(Spin(SList, 0, 6), Spin(SList, 2, 6))\n",
    "    H13=Coup(Spin(SList, 1, 6), Spin(SList, 3, 6))\n",
    "    \n",
    "    H24=Coup(Spin(SList, 2, 6), Spin(SList, 4, 6))\n",
    "    H35=Coup(Spin(SList, 3, 6), Spin(SList, 5, 6))\n",
    "    \n",
    "    #periodic condition\n",
    "    #H04=Coup(Spin(SList, 0, 6), Spin(SList, 4, 6))\n",
    "    #H15=Coup(Spin(SList, 1, 6), Spin(SList, 5, 6))\n",
    "    #return J2*(H01+H23+H45)+J1*(H02+H13+H24+H35+H04+H15)\n",
    "    \n",
    "    #non periodic condition\n",
    "    return J2*(H01+H23+H45)+J1*(H02+H13+H24+H35)"
   ]
  },
  {
   "cell_type": "code",
   "execution_count": 116,
   "metadata": {},
   "outputs": [],
   "source": [
    "Curves={}\n",
    "\n",
    "for i in range(20):\n",
    "    J2=i*0.1\n",
    "    E, _=lin.eigh(J1J2_3(J2, 1.0))\n",
    "    #print len(E)\n",
    "    for e in range(len(E)):\n",
    "        if Curves.has_key(e):\n",
    "            Curves[e].append(E[e]/6.0)\n",
    "        else:\n",
    "            Curves[e]=[E[e]/6.0]"
   ]
  },
  {
   "cell_type": "code",
   "execution_count": 117,
   "metadata": {},
   "outputs": [
    {
     "data": {
      "image/png": "[encoded data removed]",
      "text/plain": [
       "<Figure size 432x288 with 1 Axes>"
      ]
     },
     "metadata": {
      "needs_background": "light"
     },
     "output_type": "display_data"
    }
   ],
   "source": [
    "x=np.array(range(20))*0.1\n",
    "for e in range(len(Curves)):\n",
    "    plt.plot(x, Curves[e], label=e)\n",
    "\n",
    "x=np.linspace(0.0,1.9,num=100)\n",
    "y=x*0.0\n",
    "#print x\n",
    "#print y\n",
    "plt.plot(x,y,'k-')\n",
    "#plt.legend()\n",
    "plt.show()"
   ]
  },
  {
   "cell_type": "code",
   "execution_count": 118,
   "metadata": {},
   "outputs": [
    {
     "name": "stdout",
     "output_type": "stream",
     "text": [
      "[-0.52156421 -0.38503254 -0.38503254 -0.38503254 -0.2551294  -0.2551294\n",
      " -0.2551294  -0.20833333 -0.20833333 -0.20833333 -0.20833333 -0.17898993\n",
      " -0.17898993 -0.17898993 -0.15045061 -0.125      -0.125      -0.125\n",
      " -0.125      -0.125      -0.125      -0.125      -0.125      -0.04166667\n",
      "  0.00210774  0.00210774  0.00210774  0.04166667  0.04166667  0.04166667\n",
      "  0.04166667  0.04166667  0.04166667  0.04166667  0.04166667  0.04166667\n",
      "  0.04166667  0.04166667  0.04166667  0.04166667  0.04701481  0.08846273\n",
      "  0.08846273  0.08846273  0.125       0.125       0.125       0.125\n",
      "  0.125       0.14524806  0.14524806  0.14524806  0.20833333  0.20833333\n",
      "  0.20833333  0.20833333  0.20833333  0.29166667  0.29166667  0.29166667\n",
      "  0.29166667  0.29166667  0.29166667  0.29166667]\n"
     ]
    }
   ],
   "source": [
    "E, _=lin.eigh(J1J2_3(1.0, 1.0))\n",
    "print E/6.0"
   ]
  },
  {
   "cell_type": "code",
   "execution_count": null,
   "metadata": {},
   "outputs": [],
   "source": []
  },
  {
   "cell_type": "code",
   "execution_count": null,
   "metadata": {},
   "outputs": [],
   "source": []
  }
 ],
 "metadata": {
  "kernelspec": {
   "display_name": "Python 2",
   "language": "python",
   "name": "python2"
  },
  "language_info": {
   "codemirror_mode": {
    "name": "ipython",
    "version": 2
   },
   "file_extension": ".py",
   "mimetype": "text/x-python",
   "name": "python",
   "nbconvert_exporter": "python",
   "pygments_lexer": "ipython2",
   "version": "2.7.15rc1"
  }
 },
 "nbformat": 4,
 "nbformat_minor": 2
}
